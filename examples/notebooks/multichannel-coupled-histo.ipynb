{
 "cells": [
  {
   "cell_type": "code",
   "execution_count": 1,
   "metadata": {},
   "outputs": [
    {
     "name": "stdout",
     "output_type": "stream",
     "text": [
      "Populating the interactive namespace from numpy and matplotlib\n"
     ]
    }
   ],
   "source": [
    "%pylab inline"
   ]
  },
  {
   "cell_type": "code",
   "execution_count": 19,
   "metadata": {},
   "outputs": [],
   "source": [
    "import pyhf\n",
    "reload(pyhf)\n",
    "import logging\n",
    "logging.basicConfig(level = logging.INFO)\n",
    "from pyhf import hfpdf\n",
    "def prep_data(sourcedata):\n",
    "    spec =  {\n",
    "        'signal': {\n",
    "            'signal': {\n",
    "                'data': sourcedata['signal']['bindata']['sig'],\n",
    "                'mods': [\n",
    "                    {\n",
    "                        'name': 'mu',\n",
    "                        'type': 'normfactor',\n",
    "                        'data': None\n",
    "                    }\n",
    "                ]\n",
    "            },\n",
    "            'bkg1': {\n",
    "                'data': sourcedata['signal']['bindata']['bkg1'],\n",
    "                'mods': [\n",
    "                    {\n",
    "                        'name': 'coupled_histosys',\n",
    "                        'type': 'histosys',\n",
    "                        'data':  {'lo_hist': sourcedata['signal']['bindata']['bkg1_dn'], 'hi_hist': sourcedata['signal']['bindata']['bkg1_up']}\n",
    "                    }\n",
    "                ]\n",
    "            },\n",
    "            'bkg2': {\n",
    "                'data': sourcedata['signal']['bindata']['bkg2'],\n",
    "                'mods': [\n",
    "                    {\n",
    "                        'name': 'coupled_histosys',\n",
    "                        'type': 'histosys',\n",
    "                        'data':  {'lo_hist': sourcedata['signal']['bindata']['bkg2_dn'], 'hi_hist': sourcedata['signal']['bindata']['bkg2_up']}\n",
    "                    }\n",
    "                ]\n",
    "            }\n",
    "        },\n",
    "        'control': {\n",
    "            'background': {\n",
    "                'data': sourcedata['control']['bindata']['bkg1'],\n",
    "                'mods': [\n",
    "                    {\n",
    "                        'name': 'coupled_histosys',\n",
    "                        'type': 'histosys',\n",
    "                        'data':  {'lo_hist': sourcedata['control']['bindata']['bkg1_dn'], 'hi_hist': sourcedata['control']['bindata']['bkg1_up']}\n",
    "                    }\n",
    "                ]\n",
    "            }\n",
    "        }\n",
    "    }\n",
    "    pdf  = hfpdf(spec)\n",
    "    data = []\n",
    "    for c in pdf.channel_order:\n",
    "        data += sourcedata[c]['bindata']['data']\n",
    "    data = data + pdf.auxdata\n",
    "    return data, pdf"
   ]
  },
  {
   "cell_type": "code",
   "execution_count": 20,
   "metadata": {
    "scrolled": false
   },
   "outputs": [
    {
     "name": "stderr",
     "output_type": "stream",
     "text": [
      "INFO:pyhf:adding modifier coupled_histosys (1 new nuisance parameters)\n",
      "INFO:pyhf:adding modifier mu (1 new nuisance parameters)\n",
      "INFO:pyhf:accepting existing histosys\n",
      "INFO:pyhf:accepting existing histosys\n"
     ]
    },
    {
     "name": "stdout",
     "output_type": "stream",
     "text": [
      "[110.0, 105.0, 170.0, 220.0, 0, 0, 0]\n",
      "('UNCON', array([0.27003651, 0.46194741]))\n",
      "('CONS', array([0.14179813, 0.        ]))\n"
     ]
    },
    {
     "name": "stderr",
     "output_type": "stream",
     "text": [
      "/Users/lukas/Code/histfactory/pyhf/pyhf/__init__.py:16: RuntimeWarning: invalid value encountered in sqrt\n",
      "  return norm.pdf(n, loc = lam, scale = np.sqrt(lam))\n",
      "/Users/lukas/Code/histfactory/pyhf/venv/lib/python2.7/site-packages/scipy/stats/_distn_infrastructure.py:1653: RuntimeWarning: invalid value encountered in greater\n",
      "  cond0 = self._argcheck(*args) & (scale > 0)\n",
      "/Users/lukas/Code/histfactory/pyhf/venv/lib/python2.7/site-packages/scipy/stats/_distn_infrastructure.py:876: RuntimeWarning: invalid value encountered in greater_equal\n",
      "  return (self.a <= x) & (x <= self.b)\n",
      "/Users/lukas/Code/histfactory/pyhf/venv/lib/python2.7/site-packages/scipy/stats/_distn_infrastructure.py:876: RuntimeWarning: invalid value encountered in less_equal\n",
      "  return (self.a <= x) & (x <= self.b)\n",
      "/Users/lukas/Code/histfactory/pyhf/venv/lib/python2.7/site-packages/scipy/stats/_distn_infrastructure.py:1654: RuntimeWarning: invalid value encountered in greater\n",
      "  cond1 = self._support_mask(x) & (scale > 0)\n"
     ]
    },
    {
     "data": {
      "text/plain": [
       "array([1.05708991e+02, 1.02126972e+02, 1.52126972e+02, 2.12201103e+02,\n",
       "       1.41798128e-01, 1.41798128e-01, 1.41798128e-01])"
      ]
     },
     "execution_count": 20,
     "metadata": {},
     "output_type": "execute_result"
    }
   ],
   "source": [
    "import json\n",
    "source = json.load(open('../../validation/data/2bin_2channel_coupledhisto.json'))\n",
    "\n",
    "\n",
    "d,pdf = prep_data(source['channels'])\n",
    "\n",
    "print (d)\n",
    "\n",
    "init_pars = pdf.config.suggested_init()\n",
    "par_bounds = pdf.config.suggested_bounds()\n",
    "\n",
    "unconpars = pyhf.unconstrained_bestfit(d,pdf,init_pars,par_bounds)\n",
    "print ('UNCON',unconpars)\n",
    "\n",
    "conpars = pyhf.constrained_bestfit(0.0,d,pdf,init_pars,par_bounds)\n",
    "print ('CONS', conpars)\n",
    "\n",
    "pdf.expected_data(conpars)"
   ]
  },
  {
   "cell_type": "code",
   "execution_count": 21,
   "metadata": {
    "scrolled": false
   },
   "outputs": [
    {
     "name": "stderr",
     "output_type": "stream",
     "text": [
      "WARNING:pyhf:WARNING: qmu negative: -4.547473508864641e-13\n",
      "/Users/lukas/Code/histfactory/pyhf/pyhf/__init__.py:366: RuntimeWarning: divide by zero encountered in double_scalars\n",
      "  CLs  = CLb/CLsb\n"
     ]
    },
    {
     "data": {
      "text/plain": [
       "{'exp': [0.3277345829513242,\n",
       "  0.4537751313932091,\n",
       "  0.6434662886946377,\n",
       "  0.9180887336497598,\n",
       "  1.2744715070186352],\n",
       " 'obs': 1.0478812654904552}"
      ]
     },
     "execution_count": 21,
     "metadata": {},
     "output_type": "execute_result"
    },
    {
     "data": {
      "image/png": "[encoded data removed]",
      "text/plain": [
       "<matplotlib.figure.Figure at 0x109efff50>"
      ]
     },
     "metadata": {},
     "output_type": "display_data"
    }
   ],
   "source": [
    "def plot_results(testmus,cls_obs, cls_exp, test_size = 0.05):\n",
    "    plt.plot(mutests,cls_obs, c = 'k')\n",
    "    for i,c in zip(range(5),['grey','grey','grey','grey','grey']):\n",
    "        plt.plot(mutests,cls_exp[i], c = c)\n",
    "    plt.plot(testmus,[test_size]*len(testmus), c = 'r')\n",
    "    plt.ylim(0,1)\n",
    "\n",
    "def CLsOnePoint(muTest,d,pdf, init_pars,par_bounds):\n",
    "    clsobs, cls_exp = pyhf.runOnePoint(muTest, d,pdf,init_pars,par_bounds)[-2:]\n",
    "    return 1./clsobs, [1./x for x in cls_exp]\n",
    "\n",
    "def invert_interval(testmus,cls_obs, cls_exp, test_size = 0.05):\n",
    "    point05cross = {'exp':[],'obs':None}\n",
    "    for cls_exp_sigma in cls_exp:\n",
    "        yvals = [x for x in cls_exp_sigma]\n",
    "        point05cross['exp'].append(np.interp(test_size,list(reversed(yvals)),list(reversed(testmus))))\n",
    "        \n",
    "    yvals = cls_obs\n",
    "    point05cross['obs'] = np.interp(test_size,list(reversed(yvals)),list(reversed(testmus)))\n",
    "    return point05cross\n",
    "\n",
    "\n",
    "CLsOnePoint(1.0,d,pdf,init_pars,par_bounds)\n",
    "\n",
    "\n",
    "mutests = np.linspace(0,5,61)\n",
    "tests = [CLsOnePoint(muTest,d,pdf,init_pars,par_bounds) for muTest in mutests]\n",
    "cls_obs = [test[0]  for test in tests]\n",
    "cls_exp = [[test[1][i]  for test in tests] for i in range(5)]\n",
    "\n",
    "plot_results(mutests, cls_obs, cls_exp)\n",
    "\n",
    "invert_interval(mutests, cls_obs, cls_exp)\n",
    "\n",
    "\n"
   ]
  },
  {
   "cell_type": "code",
   "execution_count": 22,
   "metadata": {},
   "outputs": [
    {
     "data": {
      "text/plain": [
       "(0.06406791030101676,\n",
       " [1.6538409169005294e-05,\n",
       "  0.0002490863040337432,\n",
       "  0.0032056269173357244,\n",
       "  0.03060508439328246,\n",
       "  0.17574126217230668])"
      ]
     },
     "execution_count": 22,
     "metadata": {},
     "output_type": "execute_result"
    }
   ],
   "source": [
    "CLsOnePoint(1.0,d,pdf,init_pars,par_bounds)\n"
   ]
  },
  {
   "cell_type": "code",
   "execution_count": null,
   "metadata": {},
   "outputs": [],
   "source": []
  }
 ],
 "metadata": {
  "kernelspec": {
   "display_name": "Python 2",
   "language": "python",
   "name": "python2"
  },
  "language_info": {
   "codemirror_mode": {
    "name": "ipython",
    "version": 2
   },
   "file_extension": ".py",
   "mimetype": "text/x-python",
   "name": "python",
   "nbconvert_exporter": "python",
   "pygments_lexer": "ipython2",
   "version": "2.7.10"
  }
 },
 "nbformat": 4,
 "nbformat_minor": 2
}
